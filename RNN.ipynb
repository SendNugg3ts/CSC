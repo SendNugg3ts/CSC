{
 "cells": [
  {
   "cell_type": "code",
   "execution_count": null,
   "metadata": {},
   "outputs": [],
   "source": [
    "import tensorflow as tf\n",
    "from sklearn.preprocessing import MinMaxScaler\n",
    "from tensorflow.keras.models import Sequential\n",
    "from tensorflow.keras.layers import Dense, SimpleRNN\n",
    "import pandas as pd\n",
    "import numpy as np\n",
    "import matplotlib.pyplot as plt\n",
    "import importlib as imp\n",
    "import datacleaner\n",
    "import datetime\n",
    "imp.reload(datacleaner)\n",
    "\n",
    "from datacleaner import *"
   ]
  },
  {
   "cell_type": "code",
   "execution_count": null,
   "metadata": {},
   "outputs": [],
   "source": [
    "np.random.seed(1)\n",
    "tf.keras.backend.clear_session()\n",
    "\n",
    "bd = pd.read_csv(r\"training_data.csv\")"
   ]
  },
  {
   "cell_type": "code",
   "execution_count": null,
   "metadata": {},
   "outputs": [],
   "source": [
    "bd = pd.read_csv(r\"training_data.csv\")\n",
    "\n",
    "def tratar_dados(bd):\n",
    "    bd = ordernar(bd)\n",
    "    bd = RoadsCleaner(bd)\n",
    "    #bd = data(bd)\n",
    "    bd = valores_em_falta(bd)\n",
    "    bd = eliminar(bd)\n",
    "    bd = incidentsNumbers(bd)\n",
    "    bd = luminosidade(bd)\n",
    "    bd = rainNumbers(bd)\n",
    "    bd = delayNumbers(bd)\n",
    "    bd = removeOutlier(bd)\n",
    "    indice_treino, indice_val=split_data(bd, perc=10)\n",
    "    escala, bd = data_normalization(bd, norm_range=(-1, 1))\n",
    "    return bd,indice_treino,indice_val,escala\n",
    "\n",
    "bd,indice_treino,indice_val,escala=tratar_dados(bd)"
   ]
  },
  {
   "cell_type": "code",
   "execution_count": null,
   "metadata": {},
   "outputs": [],
   "source": [
    "bd.index = pd.to_datetime(bd[\"record_date\"], format=\"%Y-%m-%d %H:%M:00\")\n",
    "serie(bd,\"incidents\")\n",
    "newBd = bd[[\"incidents\",\"record_date\"]]"
   ]
  },
  {
   "cell_type": "code",
   "execution_count": null,
   "metadata": {},
   "outputs": [],
   "source": [
    "train, test = newBd[0:-600], newBd[-600:]\n",
    "temp = bd[\"incidents\"]\n",
    "temp.plot()"
   ]
  },
  {
   "cell_type": "code",
   "execution_count": null,
   "metadata": {},
   "outputs": [],
   "source": [
    "def df_to_X_y(df, window_size=5):\n",
    "  df_as_np = df.to_numpy()\n",
    "  X = []\n",
    "  y = []\n",
    "  for i in range(len(df_as_np)-window_size):\n",
    "    row = [[a] for a in df_as_np[i:i+window_size]]\n",
    "    X.append(row)\n",
    "    label = df_as_np[i+window_size]\n",
    "    y.append(label)\n",
    "  return np.array(X), np.array(y)"
   ]
  },
  {
   "cell_type": "code",
   "execution_count": null,
   "metadata": {},
   "outputs": [],
   "source": [
    "WINDOW_SIZE = 5\n",
    "X1, y1 = df_to_X_y(temp, WINDOW_SIZE)\n",
    "X1.shape, y1.shape"
   ]
  },
  {
   "cell_type": "code",
   "execution_count": null,
   "metadata": {},
   "outputs": [],
   "source": [
    "X_train1, y_train1 = X1[:4400], y1[:4400]\n",
    "X_val1, y_val1 = X1[4400:4800], y1[4400:4800]\n",
    "X_test1, y_test1 = X1[4800:], y1[4800:]\n",
    "X_train1.shape, y_train1.shape, X_val1.shape, y_val1.shape, X_test1.shape, y_test1.shape"
   ]
  },
  {
   "cell_type": "code",
   "execution_count": null,
   "metadata": {},
   "outputs": [],
   "source": [
    "from tensorflow.keras.layers import *\n",
    "from tensorflow.keras.callbacks import ModelCheckpoint\n",
    "from tensorflow.keras.losses import MeanSquaredError\n",
    "from tensorflow.keras.metrics import RootMeanSquaredError\n",
    "from tensorflow.keras.optimizers import Adam\n",
    "\n",
    "model1 = Sequential()\n",
    "model1.add(SimpleRNN(units=64, input_shape=(1, WINDOW_SIZE), activation='relu'))\n",
    "model1.add(Dense(8, 'relu'))\n",
    "model1.add(Dense(1))\n",
    "\n",
    "model1.summary()"
   ]
  },
  {
   "cell_type": "code",
   "execution_count": null,
   "metadata": {},
   "outputs": [],
   "source": [
    "cp1 = ModelCheckpoint('model1/', save_best_only=True)\n",
    "model1.compile(loss=MeanSquaredError(), optimizer=Adam(learning_rate=0.0001), metrics=[RootMeanSquaredError()])"
   ]
  },
  {
   "cell_type": "code",
   "execution_count": null,
   "metadata": {},
   "outputs": [],
   "source": [
    "model1.fit(X_train1, y_train1, validation_data=(X_val1, y_val1), epochs=10, callbacks=[cp1])"
   ]
  },
  {
   "cell_type": "code",
   "execution_count": null,
   "metadata": {},
   "outputs": [],
   "source": [
    "from tensorflow.keras.models import load_model\n",
    "model1 = load_model('model1/')"
   ]
  },
  {
   "cell_type": "code",
   "execution_count": null,
   "metadata": {},
   "outputs": [],
   "source": [
    "train_predictions = model1.predict(X_train1).flatten()\n",
    "train_results = pd.DataFrame(data={'Train Predictions':train_predictions, 'Actuals':y_train1})\n",
    "train_results"
   ]
  },
  {
   "cell_type": "code",
   "execution_count": null,
   "metadata": {},
   "outputs": [],
   "source": [
    "import matplotlib.pyplot as plt\n",
    "plt.plot(train_results['Train Predictions'][50:100])\n",
    "plt.plot(train_results['Actuals'][50:100])"
   ]
  },
  {
   "cell_type": "code",
   "execution_count": null,
   "metadata": {},
   "outputs": [],
   "source": [
    "val_predictions = model1.predict(X_val1).flatten()\n",
    "val_results = pd.DataFrame(data={'Val Predictions':val_predictions, 'Actuals':y_val1})\n",
    "val_results"
   ]
  },
  {
   "cell_type": "code",
   "execution_count": null,
   "metadata": {},
   "outputs": [],
   "source": [
    "plt.plot(val_results['Val Predictions'][:100])\n",
    "plt.plot(val_results['Actuals'][:100])"
   ]
  },
  {
   "cell_type": "code",
   "execution_count": null,
   "metadata": {},
   "outputs": [],
   "source": [
    "test_predictions = model1.predict(X_test1).flatten()\n",
    "test_results = pd.DataFrame(data={'Test Predictions':test_predictions, 'Actuals':y_test1})\n",
    "test_results"
   ]
  },
  {
   "cell_type": "code",
   "execution_count": null,
   "metadata": {},
   "outputs": [],
   "source": [
    "plt.plot(test_results['Test Predictions'][:100])\n",
    "plt.plot(test_results['Actuals'][:100])"
   ]
  },
  {
   "cell_type": "code",
   "execution_count": null,
   "metadata": {},
   "outputs": [],
   "source": [
    "from sklearn.metrics import mean_squared_error as mse\n",
    "\n",
    "def plot_predictions1(model, X, y, start=0, end=100):\n",
    "  predictions = model.predict(X).flatten()\n",
    "  df = pd.DataFrame(data={'Predictions':predictions, 'Actuals':y})\n",
    "  plt.plot(df['Predictions'][start:end])\n",
    "  plt.plot(df['Actuals'][start:end])\n",
    "  return df, mse(y, predictions)"
   ]
  },
  {
   "cell_type": "code",
   "execution_count": null,
   "metadata": {},
   "outputs": [],
   "source": [
    "plot_predictions1(model1, X_test1, y_test1)"
   ]
  }
 ],
 "metadata": {
  "kernelspec": {
   "display_name": "venv",
   "language": "python",
   "name": "python3"
  },
  "language_info": {
   "codemirror_mode": {
    "name": "ipython",
    "version": 3
   },
   "file_extension": ".py",
   "mimetype": "text/x-python",
   "name": "python",
   "nbconvert_exporter": "python",
   "pygments_lexer": "ipython3",
   "version": "3.10.6"
  },
  "orig_nbformat": 4
 },
 "nbformat": 4,
 "nbformat_minor": 2
}
