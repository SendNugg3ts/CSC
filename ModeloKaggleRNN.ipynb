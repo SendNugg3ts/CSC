{
  "cells": [
    {
      "cell_type": "code",
      "execution_count": null,
      "metadata": {
        "id": "Ore_gmuaEuRI"
      },
      "outputs": [],
      "source": [
        "import tensorflow as tf\n",
        "from sklearn.preprocessing import MinMaxScaler\n",
        "from sklearn.model_selection import TimeSeriesSplit\n",
        "from tensorflow.keras.models import Sequential\n",
        "from tensorflow.keras.layers import Dense, SimpleRNN, InputLayer\n",
        "import pandas as pd\n",
        "import numpy as np\n",
        "import matplotlib.pyplot as plt\n",
        "import importlib as imp\n",
        "import datacleaner\n",
        "import datetime\n",
        "imp.reload(datacleaner)\n",
        "\n",
        "from datacleaner import *"
      ]
    },
    {
      "cell_type": "code",
      "execution_count": null,
      "metadata": {
        "id": "THtQdOfpEuRL"
      },
      "outputs": [],
      "source": [
        "np.random.seed(1)\n",
        "tf.keras.backend.clear_session()\n",
        "\n",
        "bd = pd.read_csv(r\"training_data.csv\", na_filter=False)"
      ]
    },
    {
      "cell_type": "code",
      "execution_count": null,
      "metadata": {},
      "outputs": [],
      "source": [
        "bd.head()"
      ]
    },
    {
      "cell_type": "code",
      "execution_count": null,
      "metadata": {
        "colab": {
          "base_uri": "https://localhost:8080/"
        },
        "id": "QzYNwVdGEuRM",
        "outputId": "ac55d4b4-f5ea-4b62-fb91-e34708f24888"
      },
      "outputs": [],
      "source": [
        "def tratar_dados(bd):\n",
        "    bd = ordernar(bd)\n",
        "    bd = RoadsCleaner(bd)\n",
        "    #bd = data(bd)\n",
        "    bd = valores_em_falta(bd)\n",
        "    bd = eliminar(bd)\n",
        "    bd = incidentsNumbers(bd)\n",
        "    bd = luminosidade(bd)\n",
        "    bd = rainNumbers(bd)\n",
        "    bd = delayNumbers(bd)\n",
        "    bd = removeOutlier(bd)\n",
        "    indice_treino, indice_val=split_data(bd, perc=10)\n",
        "    escala, bd = data_normalization(bd, norm_range=(-1, 1))\n",
        "    return bd,indice_treino,indice_val,escala\n",
        "    \n",
        "bd,indice_treino,indice_val,escala=tratar_dados(bd)\n",
        "bd.head()"
      ]
    },
    {
      "cell_type": "code",
      "execution_count": null,
      "metadata": {},
      "outputs": [],
      "source": [
        "bd.index = pd.to_datetime(bd[\"record_date\"], format=\"%Y-%m-%d %H:%M:00\")\n",
        "serie(bd,\"incidents\")\n",
        "newBd = bd[[\"incidents\",\"record_date\"]]\n",
        "bd.pop(\"record_date\")"
      ]
    },
    {
      "cell_type": "code",
      "execution_count": null,
      "metadata": {},
      "outputs": [],
      "source": [
        "temp = bd\n",
        "temp = temp.resample(\"H\").interpolate(method=\"time\")\n",
        "temp =temp[temp.index.month !=8]\n",
        "print(temp)\n",
        "fig=plt.figure()\n",
        "plt.plot(temp[\"incidents\"])\n",
        "spacing =10\n",
        "fig.subplots_adjust(right=spacing)\n",
        "plt.show()\n",
        "print(temp[\"incidents\"])"
      ]
    },
    {
      "cell_type": "code",
      "execution_count": null,
      "metadata": {},
      "outputs": [],
      "source": [
        "def df_to_X_y(df, window_size=5):\n",
        "    df_as_np = df.to_numpy()\n",
        "    X = []\n",
        "    y = []\n",
        "    for i in range(len(df_as_np) - window_size):\n",
        "        row = df_as_np[i:i + window_size]\n",
        "        X.append(row)\n",
        "        label = df_as_np[i + window_size][8]  # Última coluna contém a variável de destino (incidentes)\n",
        "        y.append(label)\n",
        "    return np.array(X), np.array(y)"
      ]
    },
    {
      "cell_type": "code",
      "execution_count": null,
      "metadata": {},
      "outputs": [],
      "source": [
        "WINDOW_SIZE = 48\n",
        "X1, y1 = df_to_X_y(temp, WINDOW_SIZE)\n",
        "X1.shape, y1.shape"
      ]
    },
    {
      "cell_type": "code",
      "execution_count": null,
      "metadata": {},
      "outputs": [],
      "source": [
        "X_train1, y_train1 = X1[:6000], y1[:6000]\n",
        "X_val1, y_val1 = X1[6000:7000], y1[6000:7000]\n",
        "X_test1, y_test1 = X1[7000:], y1[7000:]\n",
        "X_train1.shape, y_train1.shape, X_val1.shape, y_val1.shape, X_test1.shape, y_test1.shape"
      ]
    },
    {
      "cell_type": "code",
      "execution_count": null,
      "metadata": {
        "colab": {
          "base_uri": "https://localhost:8080/"
        },
        "id": "reaEUo6oEuRR",
        "outputId": "c27adf19-66d7-4336-d753-89b33122f085"
      },
      "outputs": [],
      "source": [
        "from tensorflow.keras.layers import *\n",
        "from tensorflow.keras.callbacks import ModelCheckpoint\n",
        "from tensorflow.keras.losses import MeanSquaredError\n",
        "from tensorflow.keras.metrics import RootMeanSquaredError\n",
        "from tensorflow.keras.optimizers import Adam"
      ]
    },
    {
      "cell_type": "code",
      "execution_count": null,
      "metadata": {},
      "outputs": [],
      "source": [
        "def build_model(timesteps):\n",
        "    model = Sequential()\n",
        "    model.add(InputLayer((48, 13)))\n",
        "    model.add(SimpleRNN(units=64, input_shape=(timesteps, 1), activation='relu'))\n",
        "    model.add(Dense(8, 'relu'))\n",
        "    model.add(Dense(1))\n",
        "    \n",
        "    #model summary (and save it as PNG)\n",
        "    # tf.keras.utils.plot_model(model, 'Kagglernn.png', show_shapes=True)\n",
        "    return model"
      ]
    },
    {
      "cell_type": "code",
      "execution_count": null,
      "metadata": {},
      "outputs": [],
      "source": [
        "model = build_model(timesteps=WINDOW_SIZE)\n",
        "model.summary()"
      ]
    },
    {
      "cell_type": "code",
      "execution_count": null,
      "metadata": {
        "id": "S-ycfPLkEuRS"
      },
      "outputs": [],
      "source": [
        "cp1 = ModelCheckpoint('model_KaggleRNN/model.h5', save_best_only=True)\n",
        "model.compile(loss=MeanSquaredError(), optimizer=Adam(learning_rate=0.001), metrics=[RootMeanSquaredError()])"
      ]
    },
    {
      "cell_type": "code",
      "execution_count": null,
      "metadata": {},
      "outputs": [],
      "source": [
        "model.fit(X_train1, y_train1, validation_data=(X_val1, y_val1), epochs=100, callbacks=[cp1])"
      ]
    },
    {
      "cell_type": "code",
      "execution_count": null,
      "metadata": {},
      "outputs": [],
      "source": [
        "from tensorflow.keras.models import load_model\n",
        "model = load_model('modelKaggleRNN/modelo.h5')"
      ]
    },
    {
      "cell_type": "code",
      "execution_count": null,
      "metadata": {},
      "outputs": [],
      "source": [
        "train_predictions = model.predict(X_train1).flatten()\n",
        "escala_predictions = MinMaxScaler()\n",
        "escala_actuals = MinMaxScaler()\n",
        "\n",
        "escala_predictions.fit(train_predictions.reshape(-1, 1))\n",
        "escala_actuals.fit(y_train1.reshape(-1, 1))\n",
        "\n",
        "train_predictions_unscaled = escala_predictions.inverse_transform(train_predictions.reshape(-1, 1))\n",
        "y_train1_unscaled = escala_actuals.inverse_transform(y_train1.reshape(-1, 1))\n",
        "train_predictions_unscaled += 3\n",
        "y_train1_unscaled += 3\n",
        "train_results = pd.DataFrame(data={'Train Predictions': train_predictions_unscaled.flatten(), 'Actuals': y_train1_unscaled.flatten()})\n",
        "train_results"
      ]
    },
    {
      "cell_type": "code",
      "execution_count": null,
      "metadata": {},
      "outputs": [],
      "source": [
        "import matplotlib.pyplot as plt\n",
        "plt.title('Resultados do Treino')\n",
        "plt.xlabel('Índice')\n",
        "plt.ylabel('Valores')\n",
        "\n",
        "plt.plot(train_results['Train Predictions'][:500], color='blue', linestyle='--', label='Previsões de Treino')\n",
        "plt.plot(train_results['Actuals'][:500], color='red', linestyle='-', label='Valores Reais')\n",
        "\n",
        "plt.legend()\n",
        "plt.tight_layout()\n",
        "plt.show()"
      ]
    },
    {
      "cell_type": "code",
      "execution_count": null,
      "metadata": {},
      "outputs": [],
      "source": [
        "val_predictions = model.predict(X_val1).flatten()\n",
        "escala_predictions = MinMaxScaler()\n",
        "escala_actuals = MinMaxScaler()\n",
        "\n",
        "escala_predictions.fit(val_predictions.reshape(-1, 1))\n",
        "escala_actuals.fit(y_val1.reshape(-1, 1))\n",
        "\n",
        "val_predictions_unscaled = escala_predictions.inverse_transform(val_predictions.reshape(-1, 1))\n",
        "y_val1_unscaled = escala_actuals.inverse_transform(y_val1.reshape(-1, 1))\n",
        "val_predictions_unscaled += 3\n",
        "y_val1_unscaled += 3\n",
        "val_results = pd.DataFrame(data={'Val Predictions': val_predictions_unscaled.flatten(), 'Actuals': y_val1_unscaled.flatten()})\n",
        "val_results"
      ]
    },
    {
      "cell_type": "code",
      "execution_count": null,
      "metadata": {},
      "outputs": [],
      "source": [
        "import matplotlib.pyplot as plt\n",
        "\n",
        "plt.title('Resultados da Validação')\n",
        "plt.xlabel('Índice')\n",
        "plt.ylabel('Valores')\n",
        "\n",
        "plt.plot(val_results['Val Predictions'][:100], color='blue', linestyle='--', label='Previsões da Validação')\n",
        "plt.plot(val_results['Actuals'][:100], color='red', linestyle='-', label='Valores Reais')\n",
        "\n",
        "plt.legend()\n",
        "plt.tight_layout()\n",
        "plt.show()"
      ]
    },
    {
      "cell_type": "code",
      "execution_count": null,
      "metadata": {},
      "outputs": [],
      "source": [
        "test_predictions = model.predict(X_test1).flatten()\n",
        "escala_predictions = MinMaxScaler()\n",
        "escala_actuals = MinMaxScaler()\n",
        "\n",
        "escala_predictions.fit(test_predictions.reshape(-1, 1))\n",
        "escala_actuals.fit(y_test1.reshape(-1, 1))\n",
        "\n",
        "test_predictions_unscaled = escala_predictions.inverse_transform(test_predictions.reshape(-1, 1))\n",
        "y_test1_unscaled = escala_actuals.inverse_transform(y_test1.reshape(-1, 1))\n",
        "test_predictions_unscaled += 3\n",
        "y_test1_unscaled += 3\n",
        "test_results = pd.DataFrame(data={'Test Predictions': test_predictions_unscaled.flatten(), 'Actuals': y_test1_unscaled.flatten()})\n",
        "test_results"
      ]
    },
    {
      "cell_type": "code",
      "execution_count": null,
      "metadata": {},
      "outputs": [],
      "source": [
        "import matplotlib.pyplot as plt\n",
        "\n",
        "plt.title('Resultados de Teste')\n",
        "plt.xlabel('índice')\n",
        "plt.ylabel('Valores')\n",
        "\n",
        "plt.plot(test_results['Test Predictions'][:300], color='blue', linestyle='--', label='Previsões do Teste')\n",
        "plt.plot(test_results['Actuals'][:300], color='red', linestyle='-', label='Valores Reais')\n",
        "\n",
        "plt.legend()\n",
        "plt.grid(True)\n",
        "plt.tight_layout()\n",
        "plt.show()\n"
      ]
    },
    {
      "cell_type": "code",
      "execution_count": null,
      "metadata": {},
      "outputs": [],
      "source": [
        "def forecast(model, df, timesteps, multisteps, scaler):\n",
        "    input_seq = df[-timesteps:].values #getting the last sequence of known value\n",
        "    inp = input_seq\n",
        "    predictions = list()\n",
        "    for _ in range(1, multisteps+1):\n",
        "        inp = inp.reshape(1, timesteps, 1)\n",
        "        yhat = model.predict(inp)\n",
        "        yhat_inversed = scaler.inverse_transform(yhat)\n",
        "        predictions.append(yhat_inversed[0][0])\n",
        "        #prepare new input to forecast the next day\n",
        "        inp = np.append(inp[0], yhat)\n",
        "        inp = inp[-timesteps:]\n",
        "    return predictions\n",
        "\n",
        "def plot_forecast(data, forecasts):\n",
        "    plt.figure(figsize=(8,6))\n",
        "    plt.plot(range(len(data)), data, color='green', label='Confirmed')\n",
        "    plt.plot(range(len(data)-1, len(data)+len(forecasts)-1), forecasts, color='red', label='Forecasts')\n",
        "    plt.title('Number of incidents')\n",
        "    plt.ylabel('Incidents')\n",
        "    plt.xlabel('Days')\n",
        "    plt.legend()\n",
        "    plt.show()    "
      ]
    },
    {
      "cell_type": "code",
      "execution_count": null,
      "metadata": {},
      "outputs": [],
      "source": [
        "forecasts = forecast(model, bd, WINDOW_SIZE, multisteps=WINDOW_SIZE, scaler=escala)"
      ]
    },
    {
      "cell_type": "code",
      "execution_count": null,
      "metadata": {},
      "outputs": [],
      "source": [
        "plot_forecast(bd, forecasts)"
      ]
    }
  ],
  "metadata": {
    "accelerator": "GPU",
    "colab": {
      "gpuType": "T4",
      "provenance": []
    },
    "gpuClass": "standard",
    "kernelspec": {
      "display_name": "venv",
      "language": "python",
      "name": "python3"
    },
    "language_info": {
      "codemirror_mode": {
        "name": "ipython",
        "version": 3
      },
      "file_extension": ".py",
      "mimetype": "text/x-python",
      "name": "python",
      "nbconvert_exporter": "python",
      "pygments_lexer": "ipython3",
      "version": "3.10.6"
    },
    "orig_nbformat": 4
  },
  "nbformat": 4,
  "nbformat_minor": 0
}
