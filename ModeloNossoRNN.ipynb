{
 "cells": [
  {
   "cell_type": "code",
   "execution_count": null,
   "metadata": {},
   "outputs": [],
   "source": [
    "import tensorflow as tf\n",
    "from sklearn.preprocessing import MinMaxScaler\n",
    "from tensorflow.keras.models import Sequential\n",
    "from tensorflow.keras.layers import Dense, SimpleRNN, InputLayer\n",
    "import pandas as pd\n",
    "import numpy as np\n",
    "import matplotlib.pyplot as plt\n",
    "import importlib as imp\n",
    "import datacleaner\n",
    "import datetime\n",
    "imp.reload(datacleaner)\n",
    "import matplotlib.pyplot as plt\n",
    "\n",
    "from datacleaner import *"
   ]
  },
  {
   "cell_type": "code",
   "execution_count": null,
   "metadata": {},
   "outputs": [],
   "source": [
    "np.random.seed(1)\n",
    "tf.keras.backend.clear_session()\n",
    "\n",
    "bd = pd.read_csv(r\"USAccDeaths.csv\")\n",
    "bd.pop(\"Unnamed: 0\")\n",
    "bd"
   ]
  },
  {
   "cell_type": "code",
   "execution_count": null,
   "metadata": {},
   "outputs": [],
   "source": [
    "plt.title('Dataset')\n",
    "plt.xlabel('Índice')\n",
    "plt.ylabel('Valor')\n",
    "plt.plot(bd[\"time\"],bd[\"value\"])\n",
    "plt.legend()\n",
    "plt.tight_layout()\n",
    "plt.show()\n",
    "from datetime import datetime, timedelta\n",
    "def decimal_year_to_date(decimal_year):\n",
    "    year = int(decimal_year)\n",
    "    remainder = decimal_year - year\n",
    "    base_date = datetime(year, 1, 1)\n",
    "    days_in_year = (datetime(year + 1, 1, 1) - base_date).days\n",
    "    days_to_add = int(days_in_year * remainder)\n",
    "    return base_date + timedelta(days=days_to_add)\n",
    "\n",
    "decimal_years = bd[\"time\"]\n",
    "dates = [decimal_year_to_date(decimal_year) for decimal_year in decimal_years]\n",
    "\n",
    "formatted_dates = [date.strftime(\"%Y-%m-%d\") for date in dates]\n",
    "bd[\"time\"]=formatted_dates\n",
    "bd.index = bd['time']\n",
    "bd.pop(\"time\")\n",
    "bd_original = bd\n",
    "escala= MinMaxScaler(feature_range=(-1,1))\n",
    "bd[\"value\"]=escala.fit_transform(bd)\n",
    "bd_normalizado = bd[\"value\"]\n",
    "bd_normalizado"
   ]
  },
  {
   "cell_type": "code",
   "execution_count": null,
   "metadata": {},
   "outputs": [],
   "source": [
    "def df_to_X_y(df, window_size):\n",
    "  df_as_np = df.to_numpy()\n",
    "  X = []\n",
    "  y = []\n",
    "  for i in range(len(df_as_np)-window_size):\n",
    "    row = [[a] for a in df_as_np[i:i+window_size]]\n",
    "    X.append(row)\n",
    "    label = df_as_np[i+window_size]\n",
    "    y.append(label)\n",
    "  return np.array(X), np.array(y)"
   ]
  },
  {
   "cell_type": "code",
   "execution_count": null,
   "metadata": {},
   "outputs": [],
   "source": [
    "WINDOW_SIZE = 5\n",
    "X1, y1 = df_to_X_y(bd_normalizado, WINDOW_SIZE)\n",
    "X1.shape, y1.shape"
   ]
  },
  {
   "cell_type": "code",
   "execution_count": null,
   "metadata": {},
   "outputs": [],
   "source": [
    "X_train1, y_train1 = X1[:55], y1[:55]\n",
    "X_val1, y_val1 = X1[55:60], y1[55:60]\n",
    "X_test1, y_test1 = X1[60:], y1[60:]\n",
    "X_train1.shape, y_train1.shape, X_val1.shape, y_val1.shape, X_test1.shape, y_test1.shape"
   ]
  },
  {
   "cell_type": "code",
   "execution_count": null,
   "metadata": {},
   "outputs": [],
   "source": [
    "from tensorflow.keras.callbacks import ModelCheckpoint\n",
    "from tensorflow.keras.losses import MeanSquaredError\n",
    "from tensorflow.keras.metrics import RootMeanSquaredError\n",
    "from tensorflow.keras.optimizers import Adam"
   ]
  },
  {
   "cell_type": "code",
   "execution_count": null,
   "metadata": {},
   "outputs": [],
   "source": [
    "def build_model(timesteps):\n",
    "    model = Sequential()\n",
    "    model.add(InputLayer((48, 13)))\n",
    "    model.add(SimpleRNN(units=64, input_shape=(timesteps, 1), activation='relu'))\n",
    "    model.add(Dense(8, 'relu'))\n",
    "    model.add(Dense(1))\n",
    "    \n",
    "    #model summary (and save it as PNG)\n",
    "    # tf.keras.utils.plot_model(model, 'Kagglernn.png', show_shapes=True)\n",
    "    return model"
   ]
  },
  {
   "cell_type": "code",
   "execution_count": null,
   "metadata": {},
   "outputs": [],
   "source": [
    "model = build_model(timesteps=WINDOW_SIZE)\n",
    "model.summary()"
   ]
  },
  {
   "cell_type": "code",
   "execution_count": null,
   "metadata": {},
   "outputs": [],
   "source": [
    "cp1 = ModelCheckpoint('modelNossoRNN/model.h5', save_best_only=True)\n",
    "model.compile(loss=MeanSquaredError(), optimizer=Adam(learning_rate=0.001), metrics=[RootMeanSquaredError()])"
   ]
  },
  {
   "cell_type": "code",
   "execution_count": null,
   "metadata": {},
   "outputs": [],
   "source": [
    "model.fit(X_train1, y_train1, validation_data=(X_val1, y_val1), epochs=100, callbacks=[cp1])"
   ]
  },
  {
   "cell_type": "code",
   "execution_count": null,
   "metadata": {},
   "outputs": [],
   "source": [
    "from tensorflow.keras.models import load_model\n",
    "model = load_model('modelNossoRNN/modelo.h5')"
   ]
  },
  {
   "cell_type": "code",
   "execution_count": null,
   "metadata": {},
   "outputs": [],
   "source": [
    "train_predictions = model.predict(X_train1).flatten()\n",
    "\n",
    "train_predictions_unscaled = escala.inverse_transform(train_predictions.reshape(-1, 1))\n",
    "y_train1_unscaled = escala.inverse_transform(y_train1.reshape(-1, 1))\n",
    "\n",
    "train_results = pd.DataFrame(data={'Train Predictions': train_predictions_unscaled.flatten(), 'Actuals': y_train1_unscaled.flatten()})\n",
    "train_results"
   ]
  },
  {
   "cell_type": "code",
   "execution_count": null,
   "metadata": {},
   "outputs": [],
   "source": [
    "val_predictions = model.predict(X_val1).flatten()\n",
    "val_results = pd.DataFrame(data={'Val Predictions':val_predictions, 'Actuals':y_val1})\n",
    "val_results"
   ]
  },
  {
   "cell_type": "code",
   "execution_count": null,
   "metadata": {},
   "outputs": [],
   "source": [
    "test_predictions = model.predict(X_test1).flatten()\n",
    "test_results = pd.DataFrame(data={'Test Predictions':test_predictions, 'Actuals':y_test1})\n",
    "test_results"
   ]
  },
  {
   "cell_type": "code",
   "execution_count": null,
   "metadata": {},
   "outputs": [],
   "source": [
    "plt.plot(test_results['Test Predictions'], color='blue', linestyle='--', label='Previsões de Teste')\n",
    "plt.plot(test_results['Actuals'], color='red', linestyle='-', label='Valores Reais')\n",
    "plt.title('Comparação entre Previsões de Teste e Valores Reais')\n",
    "plt.xlabel('Índice')\n",
    "plt.ylabel('Valor')\n",
    "plt.legend()"
   ]
  },
  {
   "cell_type": "code",
   "execution_count": null,
   "metadata": {},
   "outputs": [],
   "source": [
    "def forecast(model, df, timesteps, multisteps, scaler):\n",
    "    input_seq = df[-timesteps:].values #getting the last sequence of known value\n",
    "    inp = input_seq\n",
    "    predictions = list()\n",
    "    for _ in range(1, multisteps+1):\n",
    "        inp = inp.reshape(1, timesteps, 1)\n",
    "        yhat = model.predict(inp)\n",
    "        yhat_inversed = scaler.inverse_transform(yhat)\n",
    "        predictions.append(yhat_inversed[0][0])\n",
    "        #prepare new input to forecast the next day\n",
    "        inp = np.append(inp[0], yhat)\n",
    "        inp = inp[-timesteps:]\n",
    "    return predictions\n",
    "\n",
    "def plot_forecast(data, forecasts):\n",
    "    plt.figure(figsize=(8,6))\n",
    "    plt.plot(range(len(data)), data, color='green', label='Confirmed')\n",
    "    plt.plot(range(len(data)-1, len(data)+len(forecasts)-1), forecasts, color='red', label='Forecasts')\n",
    "    plt.title('Number of incidents')\n",
    "    plt.ylabel('Incidents')\n",
    "    plt.xlabel('Days')\n",
    "    plt.legend()\n",
    "    plt.show()    "
   ]
  },
  {
   "cell_type": "code",
   "execution_count": null,
   "metadata": {},
   "outputs": [],
   "source": [
    "forecasts = forecast(model, bd, WINDOW_SIZE, multisteps=WINDOW_SIZE, scaler=escala)\n",
    "forecasts"
   ]
  },
  {
   "cell_type": "code",
   "execution_count": null,
   "metadata": {},
   "outputs": [],
   "source": [
    "plot_forecast(bd, forecasts)"
   ]
  }
 ],
 "metadata": {
  "kernelspec": {
   "display_name": "venv",
   "language": "python",
   "name": "python3"
  },
  "language_info": {
   "codemirror_mode": {
    "name": "ipython",
    "version": 3
   },
   "file_extension": ".py",
   "mimetype": "text/x-python",
   "name": "python",
   "nbconvert_exporter": "python",
   "pygments_lexer": "ipython3",
   "version": "3.10.6"
  },
  "orig_nbformat": 4
 },
 "nbformat": 4,
 "nbformat_minor": 2
}
